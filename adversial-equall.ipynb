{
 "cells": [
  {
   "cell_type": "code",
   "execution_count": null,
   "metadata": {},
   "outputs": [],
   "source": [
    "import sys\n",
    "import numpy as np\n",
    "import torch\n",
    "import torch.nn as nn\n",
    "import torch.optim as optim\n",
    "from torch.autograd import Variable\n",
    "from sklearn.metrics import confusion_matrix\n",
    "import time\n",
    "from tqdm import tqdm\n",
    "\n",
    "from utils import set_random_seed, get_minibatches_idx\n",
    "from models import ResNet18, VGG\n",
    "from data import save_train_data, save_test_data, load_data_from_pickle\n",
    "\n",
    "torch.backends.cudnn.deterministic = True\n",
    "torch.backends.cudnn.benchmark = False\n",
    "torch.set_default_tensor_type('torch.cuda.FloatTensor')"
   ]
  },
  {
   "cell_type": "code",
   "execution_count": null,
   "metadata": {},
   "outputs": [],
   "source": [
    "data_option = 'cifar10'\n",
    "model_option = 'VGG13'\n",
    "t1 = 10\n",
    "R = 1\n",
    "config = {'dir_path': '/mnt/e/GitHub Repo/LPM', 'data': data_option, 'model': model_option,\n",
    "          't1': t1, 'R': R, 'simple_train_batch_size': 512, 'simple_test_batch_size': 400, 'epoch_num': 350,#batch128,100 num 350\n",
    "          'lr': 0.1, 'momentum': 0.9, 'weight_decay': 5e-4, 'fixed': 'big'}"
   ]
  },
  {
   "cell_type": "code",
   "execution_count": null,
   "metadata": {},
   "outputs": [],
   "source": [
    "# fixed: big/small\n",
    "if data_option == 'fashion_mnist':\n",
    "    config['color_channel'] = 1\n",
    "else:\n",
    "    config['color_channel'] = 3\n",
    "if R == 'inf':\n",
    "    config['big_class_sample_size'] = 5000\n",
    "    config['small_class_sample_size'] = 0\n",
    "else:\n",
    "    R = int(R)\n",
    "    if data_option == 'cifar10':\n",
    "        config['big_class_sample_size'] = 5000\n",
    "        config['small_class_sample_size'] = 5000 // R\n",
    "    elif data_option == 'fashion_mnist':\n",
    "        config['big_class_sample_size'] = 6000\n",
    "        config['small_class_sample_size'] = 6000 // R\n",
    "    else:\n",
    "        print('wrong data option')\n",
    "model_path = config['dir_path'] + '/models/' + config['data'] + '_' + config['model'] + '_t1=' + \\\n",
    "    str(config['t1']) + '_R=' + config['R'] + \"_\" + config['fixed'] + '.pt'\n"
   ]
  },
  {
   "cell_type": "code",
   "execution_count": null,
   "metadata": {},
   "outputs": [],
   "source": [
    "print('save test data','time:',time.strftime(\"%Y-%m-%d %H:%M:%S\", time.localtime()))\n",
    "set_random_seed(666)\n",
    "save_test_data(config)\n",
    "\n",
    "print('save train data','time:',time.strftime(\"%Y-%m-%d %H:%M:%S\", time.localtime()))\n",
    "set_random_seed(666)\n",
    "save_train_data(config)\n",
    "\n",
    "set_random_seed(666)\n",
    "print('load data from pickle','time:',time.strftime(\"%Y-%m-%d %H:%M:%S\", time.localtime()))\n",
    "train_data, test_data = load_data_from_pickle(config)\n",
    "\n",
    "print('build model','time:',time.strftime(\"%Y-%m-%d %H:%M:%S\", time.localtime()))\n",
    "model, loss_function, optimizer = build_model(config)"
   ]
  },
  {
   "cell_type": "code",
   "execution_count": null,
   "metadata": {},
   "outputs": [],
   "source": [
    "from torch.utils.tensorboard import SummaryWriter\n",
    "writer = SummaryWriter()#./runs/\n",
    "# writer当全局变量用了"
   ]
  },
  {
   "cell_type": "code",
   "execution_count": null,
   "metadata": {},
   "outputs": [],
   "source": [
    "def fgsm_attack(image, epsilon, data_grad):\n",
    "    sign_data_grad = data_grad.sign()#符号\n",
    "    perturbed_image = image + epsilon*sign_data_grad#扰动\n",
    "    perturbed_image = torch.clamp(perturbed_image, 0, 1)#截取保证合理性\n",
    "    return perturbed_image\n",
    "\n",
    "def fgsm_test(model, device, test_loader, epsilon):\n",
    "    "
   ]
  },
  {
   "cell_type": "code",
   "execution_count": null,
   "metadata": {},
   "outputs": [],
   "source": [
    "#修改中\n",
    "def fgsm_batch(trainloader,testloader, model, loss_function, optimizer, config):\n",
    "    model.train()\n",
    "    for epoch in tqdm(range(config['epoch_num'])):\n",
    "        #training\n",
    "        if epoch == int(config['epoch_num'] / 3):\n",
    "            for g in optimizer.param_groups:\n",
    "                g['lr'] = config['lr'] / 10\n",
    "            print('divide current learning rate by 10')\n",
    "        elif epoch == int(config['epoch_num'] * 2 / 3):\n",
    "            for g in optimizer.param_groups:\n",
    "                g['lr'] = config['lr'] / 100\n",
    "            print('divide current learning rate by 10')\n",
    "        total_loss = 0\n",
    "        minibatches_idx = get_minibatches_idx(len(trainloader), minibatch_size=config['simple_train_batch_size'],\n",
    "                                              shuffle=True)\n",
    "        for minibatch in minibatches_idx:\n",
    "            inputs = torch.Tensor(np.array([list(trainloader[x][0].cpu().numpy()) for x in minibatch]))\n",
    "            targets = torch.Tensor(np.array([list(trainloader[x][1].cpu().numpy()) for x in minibatch]))\n",
    "            inputs, targets = Variable(inputs.cuda()).squeeze(1), Variable(targets.long().cuda()).squeeze()\n",
    "            optimizer.zero_grad()\n",
    "            outputs = model(inputs).squeeze()\n",
    "            loss = loss_function(outputs, targets)\n",
    "            total_loss += loss\n",
    "            loss.backward()\n",
    "            optimizer.step()\n",
    "        \n",
    "        #testing\n",
    "        test_\n",
    "        #print('epoch:', epoch, 'loss:', total_loss,'time:',time.strftime(\"%Y-%m-%d %H:%M:%S\", time.localtime()))"
   ]
  },
  {
   "cell_type": "code",
   "execution_count": null,
   "metadata": {},
   "outputs": [],
   "source": [
    "#待修改\n",
    "print('train model','time:',time.strftime(\"%Y-%m-%d %H:%M:%S\", time.localtime()))\n",
    "simple_train_batch(train_data, model, loss_function, optimizer, config)\n",
    "print('save model','time:',time.strftime(\"%Y-%m-%d %H:%M:%S\", time.localtime()))\n",
    "torch.save(model.state_dict(), model_path)\n",
    "print('load model','time:',time.strftime(\"%Y-%m-%d %H:%M:%S\", time.localtime()))\n",
    "model.load_state_dict(torch.load(model_path))\n",
    "train_res, train_big, train_small, train_confusion_matrix = simple_test_batch(train_data, model, config)\n",
    "test_res, test_big, test_small, test_confusion_matrix = simple_test_batch(test_data, model, config)\n",
    "print('train accuracy', train_res, train_big, train_small)\n",
    "print('test accuracy', test_res, test_big, test_small)\n",
    "print('train confusion matrix\\n', train_confusion_matrix)\n",
    "print('test confusion matrix\\n', test_confusion_matrix)\n",
    "print('end','time:',time.strftime(\"%Y-%m-%d %H:%M:%S\", time.localtime()))"
   ]
  }
 ],
 "metadata": {
  "kernelspec": {
   "display_name": "Python 3",
   "language": "python",
   "name": "python3"
  },
  "language_info": {
   "codemirror_mode": {
    "name": "ipython",
    "version": 3
   },
   "file_extension": ".py",
   "mimetype": "text/x-python",
   "name": "python",
   "nbconvert_exporter": "python",
   "pygments_lexer": "ipython3",
   "version": "3.8.5"
  }
 },
 "nbformat": 4,
 "nbformat_minor": 4
}
